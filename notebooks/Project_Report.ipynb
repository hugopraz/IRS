{
 "cells": [
  {
   "cell_type": "markdown",
   "id": "a40c677c",
   "metadata": {},
   "source": [
    "# IRS Project Report\n",
    "## I. Introduction\n",
    "\n",
    "This report will be a brief presentation on the pip-installable package of IRS, Infra-Red Simulator. The main results of the functions, along with the project challenges limitations will be demonstrated below. \n",
    "\n",
    "##  II. Relevant Chemistry\n",
    "Infrared (IR) spectroscopy is an analytical technique used to identify and study chemical compounds based on how they absorb infrared radiation. When molecules are exposed to IR light, specific vibrational modes of their chemical bonds are excited, depending on the frequency of the radiation. For a vibrational transition to be IR-active, it must involve a change in the dipole moment of the molecule.\n",
    "\n",
    "###  Vibrational Theory\n",
    "\n",
    "Under the harmonic approximation, atoms in a molecule are modeled as point masses connected by springs, representing chemical bonds. These atoms undergo vibrational motions (stretching, bending, etc.) around their equilibrium positions. The vibrational frequencies \\( \\nu \\) are related to the second derivatives of the molecular energy with respect to nuclear displacements — these derivatives form the Hessian matrix.\n",
    "\n",
    "In a simple diatomic molecule, the vibrational frequency can be approximated using the harmonic oscillator model:\n",
    "$$\n",
    "\\nu = \\frac{1}{2\\pi c} \\sqrt{\\frac{k}{\\mu}}\n",
    "$$\n",
    "\n",
    "Where:\n",
    "\n",
    "- $\\nu$ is the vibrational frequency (in Hz),\n",
    "- $c$ is the speed of light (in cm/s),\n",
    "- $k$ is the force constant of the bond (in N/m),\n",
    "- $\\mu$ is the reduced mass of the two atoms, given by:\n",
    "\n",
    "$$\n",
    "\\mu = \\frac{m_1 m_2}{m_1 + m_2}\n",
    "$$\n",
    "\n",
    "This model explains how heavier atoms (larger $\\mu$) or weaker bonds (smaller $k$) lead to lower vibrational frequencies. Conversely, light atoms connected by stiff bonds vibrate at higher frequencies.\n",
    "\n",
    "In reality, molecules consist of many atoms and therefore exhibit multiple vibrational modes: $3N - 6$ for nonlinear molecules, and $3N - 5$ for linear molecules, where $N$ is the number of atoms. Each of these normal modes corresponds to a specific pattern of atomic motion and can be analyzed for infrared (IR) activity.\n",
    "\n",
    "A mode is IR-active if it involves a change in the dipole moment during the vibration. These active modes appear as peaks in the IR spectrum. The frequency and intensity of each peak provide insight into the bond types and functional groups present in the molecule.\n",
    "\n",
    "Each functional group (such as –OH, –NH₂, C=O, etc.) has characteristic absorption bands in the IR region, typically between 4000 and 400 cm⁻¹. This results in a unique \"molecular fingerprint\" for every compound. The IR spectrum plots frequency (in wavenumbers, cm⁻¹) on the x-axis and intensity or transmittance on the y-axis, reflecting how much IR radiation is absorbed at each frequency.\n",
    "\n",
    "Infrared spectroscopy is a powerful analytical technique because it allows chemists to identify the presence of specific functional groups within a molecule by examining their characteristic absorption bands. It provides a rapid and non-destructive method for confirming molecular structure. Additionally, it is commonly employed to monitor the progress of chemical reactions by observing changes in the IR spectrum that correspond to bond formation or cleavage. Because each molecule has a distinct IR absorption pattern, the technique is also valuable for distinguishing between similar compounds or assessing sample purity.\n",
    "\n",
    "## III. Motivation\n",
    "The initial project idea was to create a molecule combiner/analyzer, but was quickly dismissed due to the generality and the simplicity of the final result. Sharing interest in quantum chemistry, our team decided to create a tool combining quantum mechanical simulation and utility for chemists, which led to the idea of a computational Infra-Red Simulator. Combining vibrational spectroscopy and computational chemistry, we aimed to bridge theoretical methods with practical visualization tools. The project evolved into an Infra-Red Simulator capable of predicting IR spectra from molecular structures using quantum mechanical principles. Our goal is to make the vibrational analysis of molecules more accessible, allowing the user to visualize molecular vibrations and functional group behavior through a simple interface. Using RDKit, QM packages(Psi4, ORCA), and Streamlit, this package enables chemists to to generate and explore IR spectra from molecular structures in an intuitive environment.\n",
    "\n",
    "## IV. Usage Example\n",
    "After installing the package (as described in the README), users gain access to the full suite of functions it offers. This project is modular in design and can be divided into three independent components, each of which can be run separately: two quantum mechanical modules (using ORCA and Psi4, respectively) and a structural analysis module focused on identifying key features within a molecule.\n",
    "\n",
    "The functions associated with each of these components are outlined and explained below.\n",
    "\n",
    "### QM approach: Psi4 and ORCA\n",
    "\n",
    "The combined streamlit interface features a first part of molecular visualisation, then the quantum calculatiions are performed differently using Psi4 and ORCA.\n",
    "\n",
    "\n",
    "#### Molecular Visualization\n",
    " `name_to_smiles(name)`\n",
    "\n",
    "This function converts a name to SMILES using PubChems API."
   ]
  },
  {
   "cell_type": "code",
   "execution_count": null,
   "id": "7c9970a0",
   "metadata": {},
   "outputs": [],
   "source": [
    "import IRS\n",
    "output = IRS.name_to_smiles(\"ethanol\")\n",
    "print(output)"
   ]
  },
  {
   "cell_type": "markdown",
   "id": "5b88148e",
   "metadata": {},
   "source": [
    "\n",
    " `generate_3d_molecule(smiles)`\n",
    "\n",
    "This function converts a SMILES string into an 3D molecule.It begins by parsing the SMILES into an RDKit molecule object, then adds explicit hydrogens to ensure correct valency. To generate 3D coordinates, it applies the ETKDG algorithm with a fixed random seed (42) for reproducibility; if the initial embedding fails, a fallback attempt is made. The resulting structure is then optimized using the Universal Force Field (UFF), allowing up to 200 iterations. "
   ]
  },
  {
   "cell_type": "code",
   "execution_count": null,
   "id": "b7e2e69c",
   "metadata": {},
   "outputs": [],
   "source": [
    "import IRS\n",
    "from rdkit import Chem\n",
    "from rdkit.Chem import AllChem\n",
    "output = IRS.generate_3d_molecule(\"CCO\")\n",
    "print(output)"
   ]
  },
  {
   "cell_type": "markdown",
   "id": "ad4c6515",
   "metadata": {},
   "source": [
    "\n",
    " `mol_to_3dviewer(mol)`\n",
    "\n",
    "The molecule is then visualized in 3D with the above function. This function visualizes a 3D molecule by first converting the RDKit molecule into a mol block format, a textual representation of its structure. It then initializes a py3Dmol viewer with defined dimensions and loads the molecular model into the viewer. The view of the input molecule is automatically zoomed to fit the entire molecule for optimal display. The result is shown in the interface with the function `show_3dmol(viewer)`.\n",
    "\n"
   ]
  },
  {
   "cell_type": "code",
   "execution_count": null,
   "id": "28eee5ed",
   "metadata": {},
   "outputs": [],
   "source": [
    "#mol_to_3dviewer(mol)\n",
    "import IRS\n",
    "from rdkit import Chem\n",
    "import py3Dmol\n",
    "mol = Chem.MolFromSmiles(\"CCO\")\n",
    "mol = Chem.AddHs(mol)\n",
    "output_1 = IRS.mol_to_3dviewer(mol)\n",
    "print(output_1)\n",
    "\n",
    "#show_3dmol(viewer)\n",
    "import IRS\n",
    "output_2 = IRS.show_3dmol(output_1)\n",
    "print(output_2)"
   ]
  },
  {
   "cell_type": "markdown",
   "id": "b5ebe290",
   "metadata": {},
   "source": [
    "#### Plotting the IR Spectrum\n",
    "\n",
    " `plot_ir_spectrum(freqs, intensities, sigma=20, scale_factor=0.97)`\n",
    "This function generates a simulated IR spectrum by scaling the input frequencies, constructing a smooth wavenumber range, and adding Gaussian peaks for each vibrational mode. It converts the absorbance data to percent transmittance, formats the plot with standard IR conventions (including axis inversion), and returns the resulting figure. The `freqs` and `intensities` variables used in the plot are obtained from quantum mechanical calculations using either Psi4 or ORCA.\n",
    "\n",
    "### Quantum Mechanical Calculations \n",
    "\n",
    "#### Psi4\n",
    "\n",
    "First of all, a caching mechanism is implemented with the `cached_geometry_optimization(smiles, method)` function and the Streamlit `@st.cache_resource` decorator. This ensures that if the same SMILES string and computational method are provided again, the geometry optimization is not recomputed. Instead, the previously stored result is reused, significantly improving performance.\n",
    " `smiles_to_optimized_geometry(smiles, method)`\n",
    "\n",
    "This function prepares and optimizes a molecular geometry using quantum chemistry. It first generates an initial 3D structure with RDKit, then converts it into the format required by Psi4 by extracting atomic coordinates and reformatting them as \"element x y z\" entries. The function returns both the Psi4 and RDKit molecule objects. This optimization step refines the initial structure by accounting for electronic effects beyond the reach of classical force fields.\n",
    "\n",
    " `psi4_calculate_frequencies(molecule, selected_method)`\n",
    "\n",
    "This function calculates the vibrational frequencies from normal modes using the Psi4 package. It starts by allocating memory and configuring output settings, then runs the `frequency` calculation with the selected method, recording the execution time. Vibrational frequencies are extracted from the wavefunction object and converted to a NumPy array. <br>\n",
    "\n",
    "The function attempts to retrieve IR intensities from multiple possible keys (to ensure compatibility across Psi4 versions), validating the data and falling back on dummy values if needed. It returns the frequencies, intensities, runtime, and a flag indicating whether real IR data was available. This step is key for generating IR spectra and confirming that the molecule is at a true energy minimum. The method used (e.g., HF, B3LYP, MP2) defines the level of theory, trading off between speed and accuracy. This gives three version of infra-red spectrums of the molecule, which can be compared to an experimental spectrum for accuracy.\n",
    "\n",
    "The `method` parameter in these functions refers to the quantum chemistry method used for calculations. Common options include:\n",
    "\n",
    "- **HF**: Hartree-Fock (fastest but least accurate)\n",
    "- **B3LYP**: Popular density functional theory (DFT) method (good balance of accuracy and speed)\n",
    "- **MP2**: Second-order Møller–Plesset perturbation theory (more accurate but slower)\n",
    "\n",
    "The method is typically combined with a basis set, such as \"B3LYP/6-31G*\" or \"HF/3-21G\".\n",
    "\n",
    " `guess_charge_multiplicity`\n",
    "\n",
    "This function calculates two essential parameters for quantum calculations: the formal charge and spin multiplicity. The formal charge is retrieved from the RDKit molecule, while the multiplicity is estimated based on the number of unpaired electrons. If none are found, the default multiplicity is 1."
   ]
  },
  {
   "cell_type": "code",
   "execution_count": null,
   "id": "3104ee4b",
   "metadata": {},
   "outputs": [],
   "source": [
    "import IRS\n",
    "from rdkit import Chem\n",
    "mol = Chem.MolFromSmiles(\"CCO\")\n",
    "output = IRS.guess_charge_multiplicity(mol)\n",
    "print(output)"
   ]
  },
  {
   "cell_type": "markdown",
   "id": "04f08442",
   "metadata": {},
   "source": [
    "`write_orca_input`\n",
    "\n",
    "This function prepares the input file for ORCA. It extracts atomic coordinates from the RDKit molecule and writes them in XYZ format, along with charge, multiplicity, and the selected computational method. The resulting .inp file contains instructions for both geometry optimization and IR frequency analysis.\n",
    "\n",
    "`run_orca`, `parse_orca_output`\n",
    "\n",
    "These The run_orca function executes the ORCA calculation by calling the ORCA binary on the generated input file and directing the output to a .out file. Once the calculation is complete, the parse_orca_output function processes this output file to extract vibrational frequencies and IR intensities from the \"IR SPECTRUM\" section. The results are returned as NumPy arrays, ready for spectrum plotting. If the output is missing or contains no valid data, appropriate error messages are shown to inform the user.\n",
    "\n",
    "The intermidate files generated by ORCA are then removes by the`cleanup_orca_files` function. \n",
    "\n",
    "## Structural approach\n",
    "\n",
    " `get_functional_groups`\n",
    "\n",
    "This function identifies and counts the presence of specific functional groups in a molecule based on its SMILES representation. For this, it uses a predefined dictionary of SMARTS (`FUNCTIONAL_GROUPS`) patterns, where each SMARTS describes the chemical structure of a functional group. For each SMARTS, the function searches for corresponding substructures in the molecule using RDKit's substructure matching. The output is a dictionnary where the keys are names of the functional groups, and the values indicate how many times each molecule appears in the molecule."
   ]
  },
  {
   "cell_type": "code",
   "execution_count": null,
   "id": "a44bb8d3",
   "metadata": {},
   "outputs": [],
   "source": [
    "import IRS\n",
    "from rdkit import Chem\n",
    "from collections import defaultdict\n",
    "output = IRS.get_functional_groups(\"C=CC(=O)O\")\n",
    "print(output)"
   ]
  },
  {
   "cell_type": "markdown",
   "id": "bbb5c35c",
   "metadata": {},
   "source": [
    "\n",
    " `detect_main_functional_groups`\n",
    " \n",
    "The function refines the output of the `get_functional_groups` by removing overlaps and avoiding double-counting. It applies correction rules to prioritize the main functional groups and subtract counts for the simpler groups they contain. The output is a dictionnary where the keys are the main functional groups, and the values indicate how many times each molecule appears in the molecule."
   ]
  },
  {
   "cell_type": "code",
   "execution_count": null,
   "id": "ff66564a",
   "metadata": {},
   "outputs": [],
   "source": [
    "import IRS\n",
    "output = IRS.detect_main_functional_groups(\"C=CC(=O)O\")\n",
    "print(output)"
   ]
  },
  {
   "cell_type": "markdown",
   "id": "608ec669",
   "metadata": {},
   "source": [
    "\n",
    " `count_ch_bonds`\n",
    "\n",
    "This function takes as an input a SMILES of a molecule and as an output how many hydrogen atoms are bonded to carbon atoms of different hybridization (sp^3, sp^2, sp) in the molecule."
   ]
  },
  {
   "cell_type": "code",
   "execution_count": null,
   "id": "7ebdabaa",
   "metadata": {},
   "outputs": [],
   "source": [
    "import IRS\n",
    "from rdkit import Chem\n",
    "output=count_ch_bonds(\"C=CC(=O)O\")\n",
    "print(output)"
   ]
  },
  {
   "cell_type": "markdown",
   "id": "5d60af06",
   "metadata": {},
   "source": [
    "\n",
    " `count_carbon_bonds`\n",
    "\n",
    "This function takes as an input the SMILES of a molecule and returns how many C-C, C=C, and C≡C bonds there are in this molecule."
   ]
  },
  {
   "cell_type": "code",
   "execution_count": null,
   "id": "74e21755",
   "metadata": {},
   "outputs": [],
   "source": [
    "import IRS\n",
    "from rdkit import Chem\n",
    "output = IRS.count_carbon_bonds(\"C=CC(=O)O\")\n",
    "print(output)"
   ]
  },
  {
   "cell_type": "markdown",
   "id": "9061cb8c",
   "metadata": {},
   "source": [
    "\n",
    "Finally, `analyze_molecule`combines the three functions mentionned above to generate a dictionnary with all keys funtional groups, C-H bonds and C-C bonds.\n",
    "\n",
    "## V. Diffuculties\n",
    "Regarding the structural approach method, there are several limitations. First, it reapresents all peaks as symmetric Gaussian functions, this fails to capture the asymmmetric or broadened peaks. The fixed frequencies and intensities in the disctiionary.py (`FUNCTIONAL_GROUPS_IR`) ignore environnmental effects, such as conjugation, ring strain...etc, which cause peak shifts. The linear addition of peaks also overlooks vibrational coupling and combination bands, leading to inaccrate intensities in the fingerprint zone (<1500cm⁻¹). \n",
    "In additon, the dictionnary in get_functional_groups (`FUNCTIONAL_GROUPS`) lacks the functional groups derived from sulfur, boron and phosphorus.\n",
    "The code's reliance on SMILES also introduces the limitation that IR sepctra depend on 3D molecular geometry, but SMILES lacks certain conformational informations.\n",
    "Lastly, the `validate_smiles` function imposes additional constraints that further narrow the scope of molecules the code can handle. The function:\n",
    "- Accepts only molecules composed of the atoms: C, H, N, O, I, F, Cl and Br.\n",
    "- Rejects any molecule with charged atoms.\n",
    "- Imposes a rule on aromatic rings containing N or O, requiring that they contain exactly 5 or 6 carbons."
   ]
  }
 ],
 "metadata": {
  "language_info": {
   "name": "python"
  }
 },
 "nbformat": 4,
 "nbformat_minor": 5
}
